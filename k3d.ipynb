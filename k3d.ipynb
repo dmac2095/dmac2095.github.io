{
 "cells": [
  {
   "cell_type": "code",
   "execution_count": 3,
   "metadata": {},
   "outputs": [
    {
     "data": {
      "application/vnd.jupyter.widget-view+json": {
       "model_id": "9e66041629364a6391fa836672f49cc0",
       "version_major": 2,
       "version_minor": 0
      },
      "text/plain": [
       "HBox(children=(Play(value=50, description='Press play'), IntSlider(value=0)))"
      ]
     },
     "metadata": {},
     "output_type": "display_data"
    },
    {
     "data": {
      "application/vnd.jupyter.widget-view+json": {
       "model_id": "cc8d56f356e04ca693fff98b2938aad9",
       "version_major": 2,
       "version_minor": 0
      },
      "text/plain": [
       "interactive(children=(IntSlider(value=0, description='frame_index'), FloatSlider(value=5.0, description='wavel…"
      ]
     },
     "metadata": {},
     "output_type": "display_data"
    },
    {
     "data": {
      "application/vnd.jupyter.widget-view+json": {
       "model_id": "fd1c7423f935442c8f5e609f06403ddb",
       "version_major": 2,
       "version_minor": 0
      },
      "text/plain": [
       "Output()"
      ]
     },
     "metadata": {},
     "output_type": "display_data"
    }
   ],
   "source": [
    "from math import sqrt,sin,pi\n",
    "from numpy import empty\n",
    "import numpy as np\n",
    "import k3d\n",
    "from ipywidgets import interact, interactive, interact_manual, interactive_output\n",
    "import ipywidgets as widgets\n",
    "from IPython.display import display, clear_output\n",
    "\n",
    "# Animation properties\n",
    "fps = 60\n",
    "\n",
    "# Graph limits. From lecture notes\n",
    "side = 100.0           # Side of the square in cm\n",
    "points = 150           # Number of squares or vertex points that make up graph. Affects resolution of graph\n",
    "spacing = side/points  # Spacing of points in cm\n",
    "xmin, xmax = 0, 500\n",
    "ymin, ymax = 0, 500\n",
    "\n",
    "# Global variables. Variables that will be used in multiple functions but we want these values to be consistent throughout\n",
    "#Saying this will be a global variable used multiple times. Reserving these two words as global, not local variables.\n",
    "GRAPH = None\n",
    "plt_surface = None\n",
    "\n",
    "# Generation function, defines variables needed to manipulate our waves and their location.\n",
    "#These are defining default values for this function to use unless otherwise noted.\n",
    "#Did it this way so you could see easily each variable of the function and it's default value.\n",
    "def gen(\n",
    "        frame_index= 0,\n",
    "        wavelength=  5.0,\n",
    "        v=           5.0,\n",
    "        amplitude1=  1.0,\n",
    "        amplitude2=  1.0,\n",
    "        x1=          50.0,\n",
    "        y1=          50.0,\n",
    "        x2=          50.0,\n",
    "        y2=          50.0):\n",
    "    global GRAPH\n",
    "\n",
    "    # Calculations relevant to waves\n",
    "    t = frame_index / fps\n",
    "    k = 2*pi/wavelength\n",
    "   \n",
    "    # Create 2-D array of points that define the graph.\n",
    "    GRAPH = empty([points, points], float) #Empty array from numpy. Default is float but we show it anyway.\n",
    "    for j in range(points): #Optimizing speed of code setting up arrays in this way\n",
    "        y = spacing*j\n",
    "        for i in range(points): \n",
    "            x = spacing*i\n",
    "           \n",
    "            r1 = sqrt((x-x1)**2+(y-y1)**2) #Distances between center of wave and point that we are currently graphing\n",
    "            r2 = sqrt((x-x2)**2+(y-y2)**2)\n",
    "            GRAPH[j,i] = sin(k*r1-v*t) * amplitude1 + sin(k*r2-v*t) * amplitude2\n",
    "           \n",
    "    # Update the 3d surface model \n",
    "    if plt_surface:\n",
    "        plt_surface.heights = GRAPH #Assigns height of each point in graph to generated array\n",
    "\n",
    "# Widget used to make buttons and integer frame slider for animations. From ipywidgets\n",
    "play = widgets.Play(\n",
    "#     interval=1000/fps,\n",
    "    value=50,\n",
    "    min=0,\n",
    "    max=100,\n",
    "    step=1,\n",
    "    description=\"Press play\",\n",
    "    disabled=False\n",
    ")\n",
    "play_slider = widgets.IntSlider()\n",
    "widgets.jslink((play, 'value'), (play_slider, 'value'))\n",
    "play_ui = widgets.HBox([play, play_slider]) #Hbox puts the slider horizontal to the buttons, Vbox would make it vertical\n",
    "display(play_ui)\n",
    "\n",
    "# Defining wave controls to manipulate our waves using sliders\n",
    "controls = interactive(gen,\n",
    "            frame_index= play_slider,\n",
    "            wavelength=  (0., 10.),\n",
    "            v=           (0., 10.),\n",
    "            amplitude1=   (0., 10.),\n",
    "            amplitude2=   (0., 10.),\n",
    "            x1=          (0., side),\n",
    "            y1=          (0., side),\n",
    "            x2=          (0., side),\n",
    "            y2=          (0., side))\n",
    "display(controls)\n",
    "\n",
    "# 3-D plot using k3d library\n",
    "plot = k3d.plot()\n",
    "plt_surface = k3d.surface(GRAPH, bounds=[xmin,xmax,ymin,ymax], color=0xffe1)\n",
    "plt_surface.heights = GRAPH\n",
    "plot += plt_surface\n",
    "plot.display()"
   ]
  },
  {
   "cell_type": "code",
   "execution_count": 4,
   "metadata": {},
   "outputs": [
    {
     "data": {
      "application/vnd.jupyter.widget-view+json": {
       "model_id": "46d0c390385949ddafa28588f86c4122",
       "version_major": 2,
       "version_minor": 0
      },
      "text/plain": [
       "HBox(children=(Play(value=50, description='Press play'), IntSlider(value=0)))"
      ]
     },
     "metadata": {},
     "output_type": "display_data"
    },
    {
     "data": {
      "application/vnd.jupyter.widget-view+json": {
       "model_id": "b7ee53cbc37040b08e298827eae4a4da",
       "version_major": 2,
       "version_minor": 0
      },
      "text/plain": [
       "interactive(children=(IntSlider(value=0, description='frame_index'), FloatSlider(value=5.0, description='wavel…"
      ]
     },
     "metadata": {},
     "output_type": "display_data"
    },
    {
     "data": {
      "application/vnd.jupyter.widget-view+json": {
       "model_id": "4aa0ad6f636d459ba0b2a93ac86c7099",
       "version_major": 2,
       "version_minor": 0
      },
      "text/plain": [
       "Output()"
      ]
     },
     "metadata": {},
     "output_type": "display_data"
    }
   ],
   "source": [
    "from math import sqrt,sin,pi\n",
    "from numpy import empty\n",
    "import numpy as np\n",
    "import k3d\n",
    "from ipywidgets import interact, interactive, interact_manual, interactive_output\n",
    "import ipywidgets as widgets\n",
    "from IPython.display import display, clear_output\n",
    "\n",
    "# Animation properties\n",
    "fps = 60\n",
    "\n",
    "# Graph limits. From lecture notes\n",
    "side = 100.0           # Side of the square in cm\n",
    "#Resolution = 500           # Number of squares or vertex points that make up graph. Affects resolution of graph\n",
    "#spacing = side/points  # Spacing of points in cm\n",
    "xmin, xmax = 0, 500\n",
    "ymin, ymax = 0, 500\n",
    "\n",
    "# Global variables. Variables that will be used in multiple functions but we want these values to be consistent throughout\n",
    "#Saying this will be a global variable used multiple times. Reserving these two words as global, not local variables.\n",
    "GRAPH = None\n",
    "plt_surface = None\n",
    "\n",
    "# Generation function, defines variables needed to manipulate our waves and their location.\n",
    "#These are defining default values for this function to use unless otherwise noted.\n",
    "#Did it this way so you could see easily each variable of the function and it's default value.\n",
    "def gen(\n",
    "        frame_index= 0,\n",
    "        \n",
    "        wavelength=  5.0,\n",
    "        v=           5.0,\n",
    "        amplitude1=  1.0,\n",
    "        amplitude2=  1.0,\n",
    "        amplitude3=  1.0,\n",
    "        x1=          50.0,\n",
    "        y1=          50.0,\n",
    "        x2=          50.0,\n",
    "        y2=          50.0,\n",
    "        x3=          50.0,\n",
    "        y3=          50.0,\n",
    "        Resolution= 250):\n",
    "    global GRAPH\n",
    "\n",
    "    # Calculations relevant to waves\n",
    "    t = frame_index / fps\n",
    "    k = 2*pi/wavelength\n",
    "   \n",
    "    spacing=side/Resolution #Scaling factor to accomodate resolution slider\n",
    "    # Create 2-D array of points that define the graph.\n",
    "    GRAPH = empty([Resolution, Resolution], float) #Empty array from numpy. Default is float but we show it anyway.\n",
    "    for j in range(Resolution): #Optimizing speed of code setting up arrays in this way\n",
    "        y = spacing*j\n",
    "        for i in range(Resolution): \n",
    "            x = spacing*i\n",
    "           \n",
    "            r1 = sqrt((x-x1)**2+(y-y1)**2) #Distances between center of wave and point that we are currently graphing\n",
    "            r2 = sqrt((x-x2)**2+(y-y2)**2)\n",
    "            r3 = sqrt((x-x3)**2+(y-y3)**2)\n",
    "            GRAPH[j,i] = sin(k*r1-v*t) * amplitude1 + sin(k*r2-v*t) * amplitude2 + sin(k*r3-v*t)*amplitude3\n",
    "           \n",
    "    # Update the 3d surface model \n",
    "    if plt_surface:\n",
    "        plt_surface.heights = GRAPH #Assigns height of each point in graph to generated array\n",
    "\n",
    "# Widget used to make buttons and integer frame slider for animations. From ipywidgets\n",
    "play = widgets.Play(\n",
    "#     interval=1000/fps,\n",
    "    value=50,\n",
    "    min=0,\n",
    "    max=100,\n",
    "    step=1,\n",
    "    description=\"Press play\",\n",
    "    disabled=False\n",
    ")\n",
    "play_slider = widgets.IntSlider()\n",
    "widgets.jslink((play, 'value'), (play_slider, 'value'))\n",
    "play_ui = widgets.HBox([play, play_slider]) #Hbox puts the slider horizontal to the buttons, Vbox would make it vertical\n",
    "display(play_ui)\n",
    "\n",
    "# Defining wave controls to manipulate our waves using sliders\n",
    "controls = interactive(gen,\n",
    "            frame_index= play_slider,\n",
    "            Resolution= (10, 500),\n",
    "            wavelength=  (0., 10.),\n",
    "            v=           (0., 10.),\n",
    "            amplitude1=   (0., 10.),\n",
    "            amplitude2=   (0., 10.),\n",
    "            amplitude3= (0., 10.),\n",
    "            x1=          (0., side),\n",
    "            y1=          (0., side),\n",
    "            x2=          (0., side),\n",
    "            y2=          (0., side),\n",
    "            x3=          (0., side),\n",
    "            y3=          (0., side))\n",
    "display(controls)\n",
    "\n",
    "# 3-D plot using k3d library\n",
    "plot = k3d.plot()\n",
    "plt_surface = k3d.surface(GRAPH, bounds=[xmin,xmax,ymin,ymax], color=0xffe1)\n",
    "plt_surface.heights = GRAPH\n",
    "plot += plt_surface\n",
    "plot.display()"
   ]
  },
  {
   "cell_type": "code",
   "execution_count": null,
   "metadata": {},
   "outputs": [],
   "source": []
  }
 ],
 "metadata": {
  "kernelspec": {
   "display_name": "Python 3",
   "language": "python",
   "name": "python3"
  },
  "language_info": {
   "codemirror_mode": {
    "name": "ipython",
    "version": 3
   },
   "file_extension": ".py",
   "mimetype": "text/x-python",
   "name": "python",
   "nbconvert_exporter": "python",
   "pygments_lexer": "ipython3",
   "version": "3.7.3"
  }
 },
 "nbformat": 4,
 "nbformat_minor": 2
}

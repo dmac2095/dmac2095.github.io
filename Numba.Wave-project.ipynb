{
 "cells": [
  {
   "cell_type": "code",
   "execution_count": 1,
   "metadata": {},
   "outputs": [
    {
     "data": {
      "application/vnd.jupyter.widget-view+json": {
       "model_id": "55b3754a24434899871c9ff405f7e81b",
       "version_major": 2,
       "version_minor": 0
      },
      "text/plain": [
       "interactive(children=(FloatSlider(value=5.0, description='Wavelength', max=10.0, step=0.5), FloatSlider(value=…"
      ]
     },
     "metadata": {},
     "output_type": "display_data"
    },
    {
     "data": {
      "text/plain": [
       "<function __main__.update_plot(wavelength, separation, speed, pebbles)>"
      ]
     },
     "execution_count": 1,
     "metadata": {},
     "output_type": "execute_result"
    }
   ],
   "source": [
    "%matplotlib inline\n",
    "from matplotlib import animation, rc\n",
    "from ipywidgets import interact, interactive, fixed, interact_manual,Layout,HBox\n",
    "from IPython.display import display\n",
    "import ipywidgets as widgets\n",
    "from IPython.display import HTML\n",
    "from math import sqrt,sin,pi\n",
    "from numpy import empty\n",
    "import matplotlib.pyplot as plt\n",
    "import random\n",
    "import time\n",
    "import numba as nb\n",
    "import numpy as np\n",
    "\"\"\"\n",
    "First we define our box with set parameters where:\n",
    "x10: amplitude of our waves\n",
    "side: side of our square or pond we are dropping the two pebbles in\n",
    "points: number of points we want to carry our wave (number of medium points)\n",
    "spacing: spacing between those points defined above\n",
    "\"\"\"\n",
    "\n",
    "\n",
    "\"\"\"\n",
    "We define our widgets within our Jupyter Notebook,\n",
    "we define 6 sliders where the first two are properties of our wave (wavelength and period),\n",
    "second two are the coordinates of the first pebble (x1,y1) and the last two are the coordinates of the \n",
    "second pebble (x2,y2)\n",
    "\n",
    "The interact_manual code calls the F function below with the parameters defined by the sliders. \n",
    "\"\"\"\n",
    "\n",
    "\n",
    "\n",
    "side = 100.0          \n",
    "points = 500      \n",
    "spacing = side/points  \n",
    "\n",
    "\n",
    "\n",
    "@nb.njit(nb.f8 (nb.f8, nb.f8, nb.f8),\n",
    "        cache=True, fastmath=True, nogil=True)\n",
    "def normalize(minimum, maximum, value):\n",
    "    return (value-minimum)/(maximum-minimum)\n",
    "\n",
    "def f2(frame,wavelength, pebbles, separation, speed):\n",
    "    k = 2*pi/wavelength\n",
    "    amp =1.0 #amplitude             \n",
    "    spacing = side/points      \n",
    "    minimum= -amp*pebbles\n",
    "    maximum= amp*pebbles\n",
    "    \n",
    "    xi = empty([points,points],float)\n",
    "    \n",
    "    x_list = empty(pebbles, float)\n",
    "    y_list = empty(pebbles, float)\n",
    "    \n",
    "    for i in range(pebbles):\n",
    "        x = (side - ((pebbles - 1) * separation)) / 2 + (separation * i)\n",
    "        y = side / 2\n",
    "        \n",
    "        x_list[i] = x\n",
    "        y_list[i] = y\n",
    "        \n",
    "    calc_xi2(points, pebbles, amp, frame, speed, xi, x_list,y_list,k)\n",
    "    im = plt.imshow(xi,origin=\"lower\",extent=[0,side,0,side])\n",
    "    return im\n",
    "\n",
    "def update_plot(wavelength, separation, speed, pebbles):\n",
    "    \n",
    "    t0 = time.perf_counter() # time start\n",
    "    frames=100\n",
    "    fig = plt.figure(figsize=[5,5], dpi=100) \n",
    "    ax = plt.axes(xlim=(0, side), ylim=(0, side))\n",
    "    plt.gray()\n",
    "    \n",
    "    ims = []\n",
    "    for frame in range(frames):\n",
    "        im=f2(frame,wavelength, pebbles, separation, speed)\n",
    "        ims.append([im])\n",
    "    \n",
    "    plt.colorbar(im,orientation='horizontal')\n",
    "    \n",
    "    anim = animation.ArtistAnimation(fig, ims, blit=True, repeat=True)\n",
    "    anim.save('Vibe Check.mp4')\n",
    "    \n",
    "    print(\"DONE!\")\n",
    "    t1 = time.perf_counter() # time end\n",
    "    t = t1 - t0\n",
    "    print(\"Time it took:\",t,\"!\")\n",
    "\n",
    "@nb.njit(nb.void(nb.i8, nb.i8, nb.f8, nb.i8, nb.f8, nb.f8[:,:], nb.f8[:],nb.f8[:], nb.f8),\n",
    "        cache=True, fastmath=True, nogil=True)\n",
    "def calc_xi2(points, pebbles, amp, frame, speed, xi, x_list,y_list,k):\n",
    "    for i in range(points):\n",
    "        y = spacing*i\n",
    "        for j in range(points):\n",
    "            x = spacing*j\n",
    "            \n",
    "            r = []\n",
    "            for l in range(pebbles):\n",
    "                x1 = x_list[l]\n",
    "                y1 = y_list[l]\n",
    "                \n",
    "                r.append(sqrt((x-x1)**2+(y-y1)**2))\n",
    "            \n",
    "            total = 0\n",
    "            for l in range(pebbles):\n",
    "                total += amp * (sin(k*r[l] -(frame* speed)))\n",
    "                \n",
    "            xi[i,j] = normalize(-amp*pebbles, amp*pebbles, total)\n",
    "\n",
    "\n",
    "widgets.interact_manual(update_plot,\n",
    "                        wavelength=widgets.FloatSlider(min=0, max=10, value=5 ,step=.5, description=\"Wavelength\"),\n",
    "                        separation=widgets.FloatSlider(min=5, max=50, value=25, step=5, descritption=\"Separation\"),\n",
    "                        speed=widgets.FloatSlider(min=0,max=1,value=.25, step=.05, description=\"Speed\"),\n",
    "                        pebbles=widgets.Dropdown(options=[1,2,3,4,5], value=1, description= '# of Pebbles:', disabled=False))"
   ]
  },
  {
   "cell_type": "code",
   "execution_count": 2,
   "metadata": {},
   "outputs": [
    {
     "data": {
      "text/html": [
       "<video src=\"Vibe Check.mp4\" controls  >\n",
       "      Your browser does not support the <code>video</code> element.\n",
       "    </video>"
      ],
      "text/plain": [
       "<IPython.core.display.Video object>"
      ]
     },
     "execution_count": 2,
     "metadata": {},
     "output_type": "execute_result"
    }
   ],
   "source": [
    "from IPython.display import Video\n",
    "Video(\"Vibe Check.mp4\")"
   ]
  },
  {
   "cell_type": "code",
   "execution_count": null,
   "metadata": {},
   "outputs": [],
   "source": []
  }
 ],
 "metadata": {
  "kernelspec": {
   "display_name": "Python 3",
   "language": "python",
   "name": "python3"
  },
  "language_info": {
   "codemirror_mode": {
    "name": "ipython",
    "version": 3
   },
   "file_extension": ".py",
   "mimetype": "text/x-python",
   "name": "python",
   "nbconvert_exporter": "python",
   "pygments_lexer": "ipython3",
   "version": "3.7.3"
  }
 },
 "nbformat": 4,
 "nbformat_minor": 2
}

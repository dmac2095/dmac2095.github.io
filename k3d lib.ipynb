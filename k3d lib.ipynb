{
 "cells": [
  {
   "cell_type": "code",
   "execution_count": 2,
   "metadata": {},
   "outputs": [
    {
     "data": {
      "application/vnd.jupyter.widget-view+json": {
       "model_id": "559e810fd05644d990a7bc9a7bca1f10",
       "version_major": 2,
       "version_minor": 0
      },
      "text/plain": [
       "interactive(children=(IntSlider(value=0, description='frame'), FloatSlider(value=5.0, description='wavelength'…"
      ]
     },
     "metadata": {},
     "output_type": "display_data"
    },
    {
     "name": "stderr",
     "output_type": "stream",
     "text": [
      "/Users/dmac/anaconda3/lib/python3.7/site-packages/traittypes/traittypes.py:101: UserWarning: Given trait value dtype \"float64\" does not match required type \"float32\". A coerced copy has been created.\n",
      "  np.dtype(self.dtype).name))\n"
     ]
    },
    {
     "data": {
      "application/vnd.jupyter.widget-view+json": {
       "model_id": "ea4d49d543694bfaa2730e82298d4b3f",
       "version_major": 2,
       "version_minor": 0
      },
      "text/plain": [
       "Output()"
      ]
     },
     "metadata": {},
     "output_type": "display_data"
    }
   ],
   "source": [
    "%matplotlib inline\n",
    "import matplotlib.pyplot as plt\n",
    "from math import sqrt,sin,pi\n",
    "from numpy import empty\n",
    "import ipywidgets as widgets\n",
    "from IPython.display import display\n",
    "from numba import jit \n",
    "import numpy as np\n",
    "from math import sqrt,sin,pi\n",
    "from numpy import empty\n",
    "import numpy as np\n",
    "import k3d\n",
    "from ipywidgets import interact, interactive, interact_manual, interactive_output\n",
    "import ipywidgets as widgets\n",
    "from IPython.display import display, clear_output\n",
    "\n",
    "fps=60\n",
    "#wavelength = 5\n",
    "\n",
    "#xi0 =1.0 #amplitude\n",
    "#separation = 0       \n",
    "side = 100.0           \n",
    "points = 500           \n",
    "#spacing = side/points \n",
    "\n",
    "xi= None\n",
    "plt_surface= None\n",
    "\n",
    "def wave(frame=0, wavelength= 5.0, amplitude= 1.0,separation= 25.0,pebbles= 1,speed=.25,v= 1.0,resolution= 150):\n",
    "    global xi\n",
    "    \n",
    "    t= frame/fps\n",
    "    k = 2*pi/wavelength\n",
    "    \n",
    "    spacing= side/resolution\n",
    "    xi= np.empty([resolution, resolution], float)\n",
    "    \n",
    "    x_list = []\n",
    "    y_list = []\n",
    "    \n",
    "    for i in range(pebbles):\n",
    "        x = (side - ((pebbles - 1) * separation)) / 2 + (separation * i)\n",
    "        y = side / 2\n",
    "        \n",
    "        x_list.append(x)\n",
    "        y_list.append(y)\n",
    "\n",
    "    for i in range(resolution):\n",
    "        y = spacing*i\n",
    "        for j in range(resolution):\n",
    "            x = spacing*j\n",
    "            \n",
    "            r = []\n",
    "            for l in range(pebbles):\n",
    "                x1 = x_list[l]\n",
    "                y1 = y_list[l]\n",
    "                \n",
    "                r.append(sqrt((x-x1)**2+(y-y1)**2))\n",
    "            \n",
    "            total = 0\n",
    "            for l in range(pebbles):\n",
    "                total += amp * (sin(k*r[l] - (v *speed)))\n",
    "                \n",
    "            xi[i,j]= total \n",
    "            \n",
    "    if plt_surface:\n",
    "        plt_surface.heights= xi\n",
    "    \n",
    "play = widgets.Play(value=50,min=0,max=100,step=1,description=\"Press play\",disabled=False)\n",
    "play_slider = widgets.IntSlider()\n",
    "widgets.jslink((play, 'value'), (play_slider, 'value'))\n",
    "play_ui = widgets.HBox([play, play_slider]) \n",
    "\n",
    "controls = interactive(wave,frame= play_slider,resolution= (10, 300),wavelength=  (0, 50.),v=(0, 10.),amplitude=   (0, 10.),pebbles= (1., 5.)) \n",
    "                       \n",
    "display(controls)\n",
    "\n",
    "# 3-D plot using k3d library\n",
    "plot = k3d.plot()\n",
    "plt_surface = k3d.surface(xi, bounds=[points, points, points, points], color=0xffe1)\n",
    "plt_surface.heights = xi\n",
    "plot += plt_surface\n",
    "plot.display()"
   ]
  },
  {
   "cell_type": "code",
   "execution_count": null,
   "metadata": {},
   "outputs": [],
   "source": []
  }
 ],
 "metadata": {
  "kernelspec": {
   "display_name": "Python 3",
   "language": "python",
   "name": "python3"
  },
  "language_info": {
   "codemirror_mode": {
    "name": "ipython",
    "version": 3
   },
   "file_extension": ".py",
   "mimetype": "text/x-python",
   "name": "python",
   "nbconvert_exporter": "python",
   "pygments_lexer": "ipython3",
   "version": "3.7.3"
  }
 },
 "nbformat": 4,
 "nbformat_minor": 2
}

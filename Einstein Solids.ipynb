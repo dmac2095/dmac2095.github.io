{
 "cells": [
  {
   "cell_type": "code",
   "execution_count": 14,
   "metadata": {},
   "outputs": [
    {
     "data": {
      "image/png": "[encoded data removed]",
      "text/plain": [
       "<Figure size 432x288 with 1 Axes>"
      ]
     },
     "metadata": {
      "needs_background": "light"
     },
     "output_type": "display_data"
    }
   ],
   "source": [
    "from math import log,exp\n",
    "import matplotlib.pyplot as plt\n",
    "\n",
    "def factor(N):\n",
    "    if N==0:\n",
    "        return 1\n",
    "    elif N==1:\n",
    "        return 1\n",
    "    else:\n",
    "        return N*factor(N-1)\n",
    "    \n",
    "def multiplicity(qA, q, NA, NB):\n",
    "    \n",
    "    \"\"\"\n",
    "    Return the multiplicity of N number\n",
    "    of harmonic oscillators and q units of energy,\n",
    "    using logarithms to allow for large integers.\n",
    "    \"\"\"\n",
    "    \n",
    "    qB= q-qA\n",
    "    \n",
    "    a= log(factor(NA+qA-1))\n",
    "    a2= log(factor(qA)*factor(NA-1))\n",
    "    \n",
    "    b =log(factor(NB+qB-1))\n",
    "    b2=log(factor(qB)*factor(NB-1))\n",
    "    \n",
    "    aa=a-a2\n",
    "    bb=b-b2\n",
    "    \n",
    "    return exp(aa+bb)\n",
    "\n",
    "def Plot_Omega(q,NA,NB):\n",
    "    \n",
    "    \"\"\"Plot multiplicity as a function of qA\"\"\"\n",
    "    \n",
    "    qA= range(0,q+1)\n",
    "    Omega= []\n",
    "    \n",
    "    for n in qA:\n",
    "        Omega.append(multiplicity(n,q,NA,NB))\n",
    "        \n",
    "    plt.plot(qA, Omega, '.r')\n",
    "    plt.title (\"Two Interacting Einstein Solids\")\n",
    "    plt.xlabel('qA')\n",
    "    plt.ylabel('$Multiplicity(qA)$')\n",
    "    \n",
    "Plot_Omega(100,300,200) #graph obtained shows that the most probable outcome is when 60% of \n",
    "                        #the total energy is in solid A"
   ]
  }
 ],
 "metadata": {
  "kernelspec": {
   "display_name": "Python 3",
   "language": "python",
   "name": "python3"
  },
  "language_info": {
   "codemirror_mode": {
    "name": "ipython",
    "version": 3
   },
   "file_extension": ".py",
   "mimetype": "text/x-python",
   "name": "python",
   "nbconvert_exporter": "python",
   "pygments_lexer": "ipython3",
   "version": "3.7.4"
  }
 },
 "nbformat": 4,
 "nbformat_minor": 2
}

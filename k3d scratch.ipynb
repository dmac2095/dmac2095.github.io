{
 "cells": [
  {
   "cell_type": "code",
   "execution_count": 1,
   "metadata": {},
   "outputs": [
    {
     "data": {
      "application/vnd.jupyter.widget-view+json": {
       "model_id": "8726c64dd047450383b2d9fc52c6a82d",
       "version_major": 2,
       "version_minor": 0
      },
      "text/plain": [
       "interactive(children=(IntSlider(value=0, description='frame_index'), FloatSlider(value=5.0, description='wavel…"
      ]
     },
     "metadata": {},
     "output_type": "display_data"
    },
    {
     "data": {
      "application/vnd.jupyter.widget-view+json": {
       "model_id": "61392469bbe04aa1bde38275e0a2e636",
       "version_major": 2,
       "version_minor": 0
      },
      "text/plain": [
       "HBox(children=(Play(value=50, description='Press play'), IntSlider(value=0, description='frame_index')))"
      ]
     },
     "metadata": {},
     "output_type": "display_data"
    },
    {
     "name": "stderr",
     "output_type": "stream",
     "text": [
      "/Users/dmac/anaconda3/lib/python3.7/site-packages/traittypes/traittypes.py:101: UserWarning: Given trait value dtype \"float64\" does not match required type \"float32\". A coerced copy has been created.\n",
      "  np.dtype(self.dtype).name))\n"
     ]
    },
    {
     "data": {
      "application/vnd.jupyter.widget-view+json": {
       "model_id": "8106cebba88a4aa59b9c0d89acb52ac6",
       "version_major": 2,
       "version_minor": 0
      },
      "text/plain": [
       "Output()"
      ]
     },
     "metadata": {},
     "output_type": "display_data"
    }
   ],
   "source": [
    "from math import sqrt,sin,pi\n",
    "from numpy import empty\n",
    "import numpy as np\n",
    "import k3d\n",
    "from ipywidgets import interact, interactive, interact_manual, interactive_output\n",
    "import ipywidgets as widgets\n",
    "from IPython.display import display, clear_output\n",
    "\n",
    "side = 100.0         \n",
    "points = 250           \n",
    "spacing = side/points  \n",
    "\n",
    "xi = np.zeros((points, points),float)\n",
    "plt_surface = None\n",
    "\n",
    "def animate(frame_index=0, wavelength=5 ,speed=.25, separation=25, amplitude=1, pebbles=1):\n",
    "\n",
    "    k = 2*pi/wavelength          \n",
    "    spacing = side/points \n",
    "    \n",
    "    global xi\n",
    "    \n",
    "    xi = np.zeros((points, points),float)\n",
    "    \n",
    "    x_list = []\n",
    "    y_list = []\n",
    "    \n",
    "    for i in range(pebbles):\n",
    "        x = (side - ((pebbles - 1) * separation)) / 2 + (separation * i)\n",
    "        y = side / 2\n",
    "        \n",
    "        x_list.append(x)\n",
    "        y_list.append(y)\n",
    "\n",
    "    for i in range(points):\n",
    "        y = spacing*i\n",
    "        for j in range(points):\n",
    "            x = spacing*j\n",
    "            \n",
    "            r = []\n",
    "            for l in range(pebbles):\n",
    "                x1 = x_list[l]\n",
    "                y1 = y_list[l]\n",
    "                \n",
    "                r.append(sqrt((x-x1)**2+(y-y1)**2))\n",
    "            \n",
    "            total = 0\n",
    "            for l in range(pebbles):\n",
    "                total += amplitude * (sin(k*r[l] -(frame_index* speed)))\n",
    "                \n",
    "            xi[i,j] = total\n",
    "\n",
    "    if plt_surface:\n",
    "        plt_surface.heights = xi \n",
    "\n",
    "play = widgets.Play(value=50,min=0,max=100,step=1,description=\"Press play\",disabled=False)\n",
    "\n",
    "slider = widgets.IntSlider()\n",
    "widgets.jslink((play, 'value'), (slider, 'value'))\n",
    "play = widgets.HBox([play, slider]) #Hbox puts the slider horizontal to the buttons, Vbox would make it vertical\n",
    "\n",
    "widgets = interactive(animate,frame_index= slider,wavelength=  (0., 10.),separation= (0.,50.),\n",
    "            speed= (0.,1.),amplitude= (0.,25.),\n",
    "            pebbles= widgets.Dropdown(options=[1,2,3,4,5], value=1, description= '# of Pebbles:', disabled=False))\n",
    "\n",
    "display(widgets)\n",
    "display(play)\n",
    "\n",
    "plot = k3d.plot()\n",
    "plt_surface = k3d.surface(xi, bounds=[0,points,0,points], color=0x7696cc)\n",
    "plt_surface.heights = xi\n",
    "plot += plt_surface\n",
    "plot.display()"
   ]
  },
  {
   "cell_type": "code",
   "execution_count": null,
   "metadata": {},
   "outputs": [],
   "source": []
  }
 ],
 "metadata": {
  "kernelspec": {
   "display_name": "Python 3",
   "language": "python",
   "name": "python3"
  },
  "language_info": {
   "codemirror_mode": {
    "name": "ipython",
    "version": 3
   },
   "file_extension": ".py",
   "mimetype": "text/x-python",
   "name": "python",
   "nbconvert_exporter": "python",
   "pygments_lexer": "ipython3",
   "version": "3.7.3"
  }
 },
 "nbformat": 4,
 "nbformat_minor": 2
}
